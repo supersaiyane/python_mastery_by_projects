{
 "cells": [
  {
   "cell_type": "markdown",
   "id": "f8f11a5b",
   "metadata": {},
   "source": [
    "### 1. Two Sum - Find indices that add up to a target."
   ]
  },
  {
   "cell_type": "code",
   "execution_count": null,
   "id": "263c03b1",
   "metadata": {},
   "outputs": [],
   "source": [
    "# Write your code here"
   ]
  },
  {
   "cell_type": "markdown",
   "id": "64ca9b35",
   "metadata": {},
   "source": [
    "### 2. Add Two Numbers represented by linked lists."
   ]
  },
  {
   "cell_type": "code",
   "execution_count": null,
   "id": "1993330f",
   "metadata": {},
   "outputs": [],
   "source": [
    "# Write your code here"
   ]
  },
  {
   "cell_type": "markdown",
   "id": "af5cac58",
   "metadata": {},
   "source": [
    "### 3. Longest Substring Without Repeating Characters."
   ]
  },
  {
   "cell_type": "code",
   "execution_count": null,
   "id": "2a823645",
   "metadata": {},
   "outputs": [],
   "source": [
    "# Write your code here"
   ]
  },
  {
   "cell_type": "markdown",
   "id": "becf2e52",
   "metadata": {},
   "source": [
    "### 4. Median of Two Sorted Arrays."
   ]
  },
  {
   "cell_type": "code",
   "execution_count": null,
   "id": "6af902be",
   "metadata": {},
   "outputs": [],
   "source": [
    "# Write your code here"
   ]
  },
  {
   "cell_type": "markdown",
   "id": "d9c9e66d",
   "metadata": {},
   "source": [
    "### 5. Longest Palindromic Substring."
   ]
  },
  {
   "cell_type": "code",
   "execution_count": null,
   "id": "8acea00d",
   "metadata": {},
   "outputs": [],
   "source": [
    "# Write your code here"
   ]
  },
  {
   "cell_type": "markdown",
   "id": "8e144681",
   "metadata": {},
   "source": [
    "### 6. Zigzag Conversion of string."
   ]
  },
  {
   "cell_type": "code",
   "execution_count": null,
   "id": "4457508e",
   "metadata": {},
   "outputs": [],
   "source": [
    "# Write your code here"
   ]
  },
  {
   "cell_type": "markdown",
   "id": "45732cc2",
   "metadata": {},
   "source": [
    "### 7. Reverse Integer with overflow check."
   ]
  },
  {
   "cell_type": "code",
   "execution_count": null,
   "id": "1fd4d554",
   "metadata": {},
   "outputs": [],
   "source": [
    "# Write your code here"
   ]
  },
  {
   "cell_type": "markdown",
   "id": "de953002",
   "metadata": {},
   "source": [
    "### 8. String to Integer (atoi)."
   ]
  },
  {
   "cell_type": "code",
   "execution_count": null,
   "id": "4934f4b3",
   "metadata": {},
   "outputs": [],
   "source": [
    "# Write your code here"
   ]
  },
  {
   "cell_type": "markdown",
   "id": "4ecbd1bb",
   "metadata": {},
   "source": [
    "### 9. Palindrome Number without extra space."
   ]
  },
  {
   "cell_type": "code",
   "execution_count": null,
   "id": "f09f11c2",
   "metadata": {},
   "outputs": [],
   "source": [
    "# Write your code here"
   ]
  },
  {
   "cell_type": "markdown",
   "id": "8d118a4a",
   "metadata": {},
   "source": [
    "### 10. Container With Most Water."
   ]
  },
  {
   "cell_type": "code",
   "execution_count": null,
   "id": "4f40b575",
   "metadata": {},
   "outputs": [],
   "source": [
    "# Write your code here"
   ]
  },
  {
   "cell_type": "markdown",
   "id": "a9852190",
   "metadata": {},
   "source": [
    "### 11. Integer to Roman and vice versa."
   ]
  },
  {
   "cell_type": "code",
   "execution_count": null,
   "id": "16da2290",
   "metadata": {},
   "outputs": [],
   "source": [
    "# Write your code here"
   ]
  },
  {
   "cell_type": "markdown",
   "id": "18cc4c69",
   "metadata": {},
   "source": [
    "### 12. 3Sum - Find triplets that sum to zero."
   ]
  },
  {
   "cell_type": "code",
   "execution_count": null,
   "id": "da91fe48",
   "metadata": {},
   "outputs": [],
   "source": [
    "# Write your code here"
   ]
  },
  {
   "cell_type": "markdown",
   "id": "9456148f",
   "metadata": {},
   "source": [
    "### 13. Letter Combinations of a Phone Number."
   ]
  },
  {
   "cell_type": "code",
   "execution_count": null,
   "id": "b2ea97a8",
   "metadata": {},
   "outputs": [],
   "source": [
    "# Write your code here"
   ]
  },
  {
   "cell_type": "markdown",
   "id": "1b94ef81",
   "metadata": {},
   "source": [
    "### 14. Valid Parentheses."
   ]
  },
  {
   "cell_type": "code",
   "execution_count": null,
   "id": "e0cd7557",
   "metadata": {},
   "outputs": [],
   "source": [
    "# Write your code here"
   ]
  },
  {
   "cell_type": "markdown",
   "id": "b2426655",
   "metadata": {},
   "source": [
    "### 15. Merge Two Sorted Lists."
   ]
  },
  {
   "cell_type": "code",
   "execution_count": null,
   "id": "d89bfd29",
   "metadata": {},
   "outputs": [],
   "source": [
    "# Write your code here"
   ]
  },
  {
   "cell_type": "markdown",
   "id": "b2a0f2b8",
   "metadata": {},
   "source": [
    "### 16. Generate Parentheses combinations."
   ]
  },
  {
   "cell_type": "code",
   "execution_count": null,
   "id": "8f1138f1",
   "metadata": {},
   "outputs": [],
   "source": [
    "# Write your code here"
   ]
  },
  {
   "cell_type": "markdown",
   "id": "aa3a28c3",
   "metadata": {},
   "source": [
    "### 17. Merge k Sorted Lists."
   ]
  },
  {
   "cell_type": "code",
   "execution_count": null,
   "id": "314318f3",
   "metadata": {},
   "outputs": [],
   "source": [
    "# Write your code here"
   ]
  },
  {
   "cell_type": "markdown",
   "id": "a8d8c154",
   "metadata": {},
   "source": [
    "### 18. Swap Nodes in Pairs (Linked List)."
   ]
  },
  {
   "cell_type": "code",
   "execution_count": null,
   "id": "ad21c3d1",
   "metadata": {},
   "outputs": [],
   "source": [
    "# Write your code here"
   ]
  },
  {
   "cell_type": "markdown",
   "id": "223f699d",
   "metadata": {},
   "source": [
    "### 19. Remove Nth Node From End of List."
   ]
  },
  {
   "cell_type": "code",
   "execution_count": null,
   "id": "17175d86",
   "metadata": {},
   "outputs": [],
   "source": [
    "# Write your code here"
   ]
  },
  {
   "cell_type": "markdown",
   "id": "eb3248e8",
   "metadata": {},
   "source": [
    "### 20. Valid Sudoku Checker."
   ]
  },
  {
   "cell_type": "code",
   "execution_count": null,
   "id": "d968ecab",
   "metadata": {},
   "outputs": [],
   "source": [
    "# Write your code here"
   ]
  },
  {
   "cell_type": "markdown",
   "id": "f003a92f",
   "metadata": {},
   "source": [
    "### 21. Rotate Image (Matrix)."
   ]
  },
  {
   "cell_type": "code",
   "execution_count": null,
   "id": "104e5bfd",
   "metadata": {},
   "outputs": [],
   "source": [
    "# Write your code here"
   ]
  },
  {
   "cell_type": "markdown",
   "id": "379def85",
   "metadata": {},
   "source": [
    "### 22. Group Anagrams."
   ]
  },
  {
   "cell_type": "code",
   "execution_count": null,
   "id": "ae956674",
   "metadata": {},
   "outputs": [],
   "source": [
    "# Write your code here"
   ]
  },
  {
   "cell_type": "markdown",
   "id": "d9517394",
   "metadata": {},
   "source": [
    "### 23. Pow(x, n) – Implement power function."
   ]
  },
  {
   "cell_type": "code",
   "execution_count": null,
   "id": "e815eb3a",
   "metadata": {},
   "outputs": [],
   "source": [
    "# Write your code here"
   ]
  },
  {
   "cell_type": "markdown",
   "id": "1d01e046",
   "metadata": {},
   "source": [
    "### 24. Longest Common Prefix."
   ]
  },
  {
   "cell_type": "code",
   "execution_count": null,
   "id": "06ffc20f",
   "metadata": {},
   "outputs": [],
   "source": [
    "# Write your code here"
   ]
  },
  {
   "cell_type": "markdown",
   "id": "e711d53e",
   "metadata": {},
   "source": [
    "### 25. Search in Rotated Sorted Array."
   ]
  },
  {
   "cell_type": "code",
   "execution_count": null,
   "id": "c3102329",
   "metadata": {},
   "outputs": [],
   "source": [
    "# Write your code here"
   ]
  },
  {
   "cell_type": "markdown",
   "id": "4850d0e8",
   "metadata": {},
   "source": [
    "### 26. Combination Sum (Backtracking)."
   ]
  },
  {
   "cell_type": "code",
   "execution_count": null,
   "id": "e9c9838e",
   "metadata": {},
   "outputs": [],
   "source": [
    "# Write your code here"
   ]
  },
  {
   "cell_type": "markdown",
   "id": "511a21cb",
   "metadata": {},
   "source": [
    "### 27. Permutations of a List."
   ]
  },
  {
   "cell_type": "code",
   "execution_count": null,
   "id": "9f544421",
   "metadata": {},
   "outputs": [],
   "source": [
    "# Write your code here"
   ]
  },
  {
   "cell_type": "markdown",
   "id": "5870ee4a",
   "metadata": {},
   "source": [
    "### 28. Unique Paths in Grid."
   ]
  },
  {
   "cell_type": "code",
   "execution_count": null,
   "id": "cb57d758",
   "metadata": {},
   "outputs": [],
   "source": [
    "# Write your code here"
   ]
  },
  {
   "cell_type": "markdown",
   "id": "a074e07c",
   "metadata": {},
   "source": [
    "### 29. Climbing Stairs (DP)."
   ]
  },
  {
   "cell_type": "code",
   "execution_count": null,
   "id": "29f0a2ce",
   "metadata": {},
   "outputs": [],
   "source": [
    "# Write your code here"
   ]
  },
  {
   "cell_type": "markdown",
   "id": "066ec57d",
   "metadata": {},
   "source": [
    "### 30. Set Matrix Zeroes (In-place)."
   ]
  },
  {
   "cell_type": "code",
   "execution_count": null,
   "id": "a79712c6",
   "metadata": {},
   "outputs": [],
   "source": [
    "# Write your code here"
   ]
  },
  {
   "cell_type": "markdown",
   "id": "ee08f787",
   "metadata": {},
   "source": [
    "### 31. Spiral Order Matrix Traversal."
   ]
  },
  {
   "cell_type": "code",
   "execution_count": null,
   "id": "39013fd4",
   "metadata": {},
   "outputs": [],
   "source": [
    "# Write your code here"
   ]
  },
  {
   "cell_type": "markdown",
   "id": "6ac64ad0",
   "metadata": {},
   "source": [
    "### 32. Jump Game I and II."
   ]
  },
  {
   "cell_type": "code",
   "execution_count": null,
   "id": "74650f6e",
   "metadata": {},
   "outputs": [],
   "source": [
    "# Write your code here"
   ]
  },
  {
   "cell_type": "markdown",
   "id": "a70e2d12",
   "metadata": {},
   "source": [
    "### 33. Maximum Subarray (Kadane's Algo)."
   ]
  },
  {
   "cell_type": "code",
   "execution_count": null,
   "id": "464c84d4",
   "metadata": {},
   "outputs": [],
   "source": [
    "# Write your code here"
   ]
  },
  {
   "cell_type": "markdown",
   "id": "4dbdf7d7",
   "metadata": {},
   "source": [
    "### 34. Minimum Path Sum (DP Grid)."
   ]
  },
  {
   "cell_type": "code",
   "execution_count": null,
   "id": "f40858af",
   "metadata": {},
   "outputs": [],
   "source": [
    "# Write your code here"
   ]
  },
  {
   "cell_type": "markdown",
   "id": "42c3e379",
   "metadata": {},
   "source": [
    "### 35. Word Break Problem (DP + Trie)."
   ]
  },
  {
   "cell_type": "code",
   "execution_count": null,
   "id": "d38586f3",
   "metadata": {},
   "outputs": [],
   "source": [
    "# Write your code here"
   ]
  },
  {
   "cell_type": "markdown",
   "id": "17720d4b",
   "metadata": {},
   "source": [
    "### 36. Longest Increasing Subsequence (DP)."
   ]
  },
  {
   "cell_type": "code",
   "execution_count": null,
   "id": "564edaaf",
   "metadata": {},
   "outputs": [],
   "source": [
    "# Write your code here"
   ]
  },
  {
   "cell_type": "markdown",
   "id": "52ae9870",
   "metadata": {},
   "source": [
    "### 37. Course Schedule (Graph Topo Sort)."
   ]
  },
  {
   "cell_type": "code",
   "execution_count": null,
   "id": "49dfb45f",
   "metadata": {},
   "outputs": [],
   "source": [
    "# Write your code here"
   ]
  },
  {
   "cell_type": "markdown",
   "id": "c0f2a027",
   "metadata": {},
   "source": [
    "### 38. Clone Graph (DFS + Hashmap)."
   ]
  },
  {
   "cell_type": "code",
   "execution_count": null,
   "id": "137ce93f",
   "metadata": {},
   "outputs": [],
   "source": [
    "# Write your code here"
   ]
  },
  {
   "cell_type": "markdown",
   "id": "20e3bb1f",
   "metadata": {},
   "source": [
    "### 39. Lowest Common Ancestor in Binary Tree."
   ]
  },
  {
   "cell_type": "code",
   "execution_count": null,
   "id": "996014c2",
   "metadata": {},
   "outputs": [],
   "source": [
    "# Write your code here"
   ]
  },
  {
   "cell_type": "markdown",
   "id": "4e57a8b4",
   "metadata": {},
   "source": [
    "### 40. Serialize and Deserialize Binary Tree."
   ]
  },
  {
   "cell_type": "code",
   "execution_count": null,
   "id": "9368acea",
   "metadata": {},
   "outputs": [],
   "source": [
    "# Write your code here"
   ]
  },
  {
   "cell_type": "markdown",
   "id": "d44dac3c",
   "metadata": {},
   "source": [
    "### 41. Kth Largest Element in Array (Heap)."
   ]
  },
  {
   "cell_type": "code",
   "execution_count": null,
   "id": "1bce04de",
   "metadata": {},
   "outputs": [],
   "source": [
    "# Write your code here"
   ]
  },
  {
   "cell_type": "markdown",
   "id": "427567e3",
   "metadata": {},
   "source": [
    "### 42. Top K Frequent Elements (Heap + Hash)."
   ]
  },
  {
   "cell_type": "code",
   "execution_count": null,
   "id": "a0ec4256",
   "metadata": {},
   "outputs": [],
   "source": [
    "# Write your code here"
   ]
  },
  {
   "cell_type": "markdown",
   "id": "afd66c3a",
   "metadata": {},
   "source": [
    "### 43. Product of Array Except Self."
   ]
  },
  {
   "cell_type": "code",
   "execution_count": null,
   "id": "bec7015f",
   "metadata": {},
   "outputs": [],
   "source": [
    "# Write your code here"
   ]
  },
  {
   "cell_type": "markdown",
   "id": "d1ba3342",
   "metadata": {},
   "source": [
    "### 44. Valid Palindrome (with punctuation)."
   ]
  },
  {
   "cell_type": "code",
   "execution_count": null,
   "id": "3c5d5a58",
   "metadata": {},
   "outputs": [],
   "source": [
    "# Write your code here"
   ]
  },
  {
   "cell_type": "markdown",
   "id": "a73f40df",
   "metadata": {},
   "source": [
    "### 45. Merge Intervals."
   ]
  },
  {
   "cell_type": "code",
   "execution_count": null,
   "id": "f5aff50d",
   "metadata": {},
   "outputs": [],
   "source": [
    "# Write your code here"
   ]
  },
  {
   "cell_type": "markdown",
   "id": "04dfc761",
   "metadata": {},
   "source": [
    "### 46. Insert Interval."
   ]
  },
  {
   "cell_type": "code",
   "execution_count": null,
   "id": "6e534500",
   "metadata": {},
   "outputs": [],
   "source": [
    "# Write your code here"
   ]
  },
  {
   "cell_type": "markdown",
   "id": "d42110ef",
   "metadata": {},
   "source": [
    "### 47. Non-overlapping Intervals."
   ]
  },
  {
   "cell_type": "code",
   "execution_count": null,
   "id": "78ac1cb0",
   "metadata": {},
   "outputs": [],
   "source": [
    "# Write your code here"
   ]
  },
  {
   "cell_type": "markdown",
   "id": "dcf05740",
   "metadata": {},
   "source": [
    "### 48. Meeting Rooms I & II."
   ]
  },
  {
   "cell_type": "code",
   "execution_count": null,
   "id": "9efed3e8",
   "metadata": {},
   "outputs": [],
   "source": [
    "# Write your code here"
   ]
  },
  {
   "cell_type": "markdown",
   "id": "a6df6d87",
   "metadata": {},
   "source": [
    "### 49. Graph Valid Tree."
   ]
  },
  {
   "cell_type": "code",
   "execution_count": null,
   "id": "82311f0e",
   "metadata": {},
   "outputs": [],
   "source": [
    "# Write your code here"
   ]
  },
  {
   "cell_type": "markdown",
   "id": "ef63ccea",
   "metadata": {},
   "source": [
    "### 50. Word Ladder (BFS + Set)."
   ]
  },
  {
   "cell_type": "code",
   "execution_count": null,
   "id": "1178b95c",
   "metadata": {},
   "outputs": [],
   "source": [
    "# Write your code here"
   ]
  }
 ],
 "metadata": {},
 "nbformat": 4,
 "nbformat_minor": 5
}
