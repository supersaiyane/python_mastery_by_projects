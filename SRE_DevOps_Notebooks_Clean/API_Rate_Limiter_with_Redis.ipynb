{
 "cells": [
  {
   "cell_type": "markdown",
   "id": "c4f4852e",
   "metadata": {},
   "source": [
    "# API Rate Limiter with Redis\n",
    "\n",
    "## Description\n",
    "Implement a rate limiting mechanism to restrict the number of API calls from a client over a time period using Redis.\n",
    "\n",
    "## Use Case\n",
    "Protect APIs from abuse, brute-force attacks, or exceeding fair usage limits.\n",
    "\n",
    "## Key Features:\n",
    "- Track client requests by IP or token\n",
    "- Enforce limit (e.g., 100 requests per 15 minutes)\n",
    "- Use Redis for distributed request tracking\n",
    "- Return 429 Too Many Requests when limit is exceeded\n",
    "\n",
    "## Tech Stack:\n",
    "- Python (Flask/FastAPI)\n",
    "- Redis (via `redis-py`)\n",
    "- `time`, `datetime`, `functools`\n",
    "\n",
    "## Instructions:\n",
    "1. Set up Redis connection\n",
    "2. On each API call, increment counter for client\n",
    "3. Store timestamp of first request and check window\n",
    "4. Return 429 if limit exceeded\n",
    "5. Reset count after TTL expires"
   ]
  }
 ],
 "metadata": {
  "language_info": {
   "name": "python"
  }
 },
 "nbformat": 4,
 "nbformat_minor": 5
}
