{
 "cells": [
  {
   "cell_type": "markdown",
   "id": "676649d0",
   "metadata": {},
   "source": [
    "# CI/CD Observability Dashboard\n",
    "\n",
    "## Description\n",
    "Visualize real-time metrics and logs from your CI/CD pipelines (e.g., GitHub Actions, Jenkins, GitLab CI) to monitor build health, failure trends, and deployment times.\n",
    "\n",
    "## Key Features:\n",
    "- Collect pipeline metrics (duration, status, frequency, failures)\n",
    "- Visualize data using Matplotlib/Plotly/Streamlit/Dash\n",
    "- Integrate with GitHub Actions API / Jenkins API\n",
    "- Monitor trends: avg build time, flaky jobs, deployment frequency\n",
    "- Alert on anomalies (e.g., build time spikes)\n",
    "\n",
    "## Tech Stack:\n",
    "- Python\n",
    "- GitHub Actions API / Jenkins API / GitLab CI API\n",
    "- Pandas for data wrangling\n",
    "- Plotly / Dash / Streamlit for dashboarding\n",
    "- Optional: Prometheus + Grafana\n",
    "\n",
    "## Instructions:\n",
    "1. Collect raw CI/CD data (via API or JSON exports)\n",
    "2. Store & normalize metrics in Pandas DataFrame\n",
    "3. Visualize:\n",
    "   - Build Success/Failure trends\n",
    "   - Avg Build & Deployment Duration\n",
    "   - Top failing jobs\n",
    "   - Daily/weekly commit/deploy frequency\n",
    "4. Use cron or scheduler for regular refresh"
   ]
  },
  {
   "cell_type": "code",
   "execution_count": null,
   "id": "7cd213b8",
   "metadata": {
    "vscode": {
     "languageId": "plaintext"
    }
   },
   "outputs": [],
   "source": [
    "# Sample GitHub API integration and dashboard mockup\n",
    "\n",
    "import requests\n",
    "import pandas as pd\n",
    "import plotly.express as px\n",
    "\n",
    "GITHUB_TOKEN = \"ghp_xxx\"  # replace with your token\n",
    "REPO = \"your-user/your-repo\"\n",
    "HEADERS = {\"Authorization\": f\"token {GITHUB_TOKEN}\"}\n",
    "\n",
    "# Fetch workflow runs\n",
    "def fetch_workflow_runs(repo):\n",
    "    url = f\"https://api.github.com/repos/{repo}/actions/runs\"\n",
    "    response = requests.get(url, headers=HEADERS)\n",
    "    data = response.json()\n",
    "    runs = data.get(\"workflow_runs\", [])\n",
    "    return [{\n",
    "        \"status\": r[\"status\"],\n",
    "        \"conclusion\": r[\"conclusion\"],\n",
    "        \"duration\": (pd.to_datetime(r[\"updated_at\"]) - pd.to_datetime(r[\"created_at\"])).total_seconds(),\n",
    "        \"created_at\": r[\"created_at\"]\n",
    "    } for r in runs]\n",
    "\n",
    "runs_data = fetch_workflow_runs(REPO)\n",
    "df = pd.DataFrame(runs_data)\n",
    "df[\"created_at\"] = pd.to_datetime(df[\"created_at\"])\n",
    "\n",
    "# Visualization\n",
    "fig = px.histogram(df, x=\"created_at\", color=\"conclusion\", title=\"CI/CD Job Outcomes Over Time\")\n",
    "fig.show()\n"
   ]
  }
 ],
 "metadata": {
  "language_info": {
   "name": "python"
  }
 },
 "nbformat": 4,
 "nbformat_minor": 5
}
