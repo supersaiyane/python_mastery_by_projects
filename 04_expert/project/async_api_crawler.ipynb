{
 "cells": [
  {
   "cell_type": "markdown",
   "id": "08ba4cf9",
   "metadata": {},
   "source": [
    "# Project: Async Api Crawler\n",
    "\n",
    "## Description:\n",
    "Fetch and display titles of multiple web pages asynchronously.\n",
    "\n",
    "## Features:\n",
    "- Use Python best practices\n",
    "- Handle edge cases\n",
    "- Write clean, modular code\n",
    "\n",
    "## Bonus:\n",
    "- Add CLI flags using argparse\n",
    "- Store data persistently\n"
   ]
  }
 ],
 "metadata": {
  "language_info": {
   "name": "python"
  }
 },
 "nbformat": 4,
 "nbformat_minor": 5
}
