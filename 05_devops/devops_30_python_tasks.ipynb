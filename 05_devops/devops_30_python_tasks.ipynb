{
 "cells": [
  {
   "cell_type": "markdown",
   "id": "483c449e",
   "metadata": {},
   "source": [
    "### 1. Write a Python script to parse a log file and extract error lines."
   ]
  },
  {
   "cell_type": "code",
   "execution_count": null,
   "id": "a5658af2",
   "metadata": {},
   "outputs": [],
   "source": [
    "# Write your code here"
   ]
  },
  {
   "cell_type": "markdown",
   "id": "c0d4542b",
   "metadata": {},
   "source": [
    "### 2. Automate the creation of AWS EC2 instances using Boto3."
   ]
  },
  {
   "cell_type": "code",
   "execution_count": null,
   "id": "a11679fb",
   "metadata": {},
   "outputs": [],
   "source": [
    "# Write your code here"
   ]
  },
  {
   "cell_type": "markdown",
   "id": "bdc9ae2a",
   "metadata": {},
   "source": [
    "### 3. Write a script to monitor disk usage and send alerts if usage > threshold."
   ]
  },
  {
   "cell_type": "code",
   "execution_count": null,
   "id": "09500024",
   "metadata": {},
   "outputs": [],
   "source": [
    "# Write your code here"
   ]
  },
  {
   "cell_type": "markdown",
   "id": "88065860",
   "metadata": {},
   "source": [
    "### 4. Create a Python script to fetch CPU and memory usage using psutil."
   ]
  },
  {
   "cell_type": "code",
   "execution_count": null,
   "id": "04f6b974",
   "metadata": {},
   "outputs": [],
   "source": [
    "# Write your code here"
   ]
  },
  {
   "cell_type": "markdown",
   "id": "0024e234",
   "metadata": {},
   "source": [
    "### 5. Build a CLI tool to check the status of multiple services using systemctl."
   ]
  },
  {
   "cell_type": "code",
   "execution_count": null,
   "id": "9c98c678",
   "metadata": {},
   "outputs": [],
   "source": [
    "# Write your code here"
   ]
  },
  {
   "cell_type": "markdown",
   "id": "0199fe05",
   "metadata": {},
   "source": [
    "### 6. Write a script to check SSL certificate expiry for a domain."
   ]
  },
  {
   "cell_type": "code",
   "execution_count": null,
   "id": "40222245",
   "metadata": {},
   "outputs": [],
   "source": [
    "# Write your code here"
   ]
  },
  {
   "cell_type": "markdown",
   "id": "f2c62dec",
   "metadata": {},
   "source": [
    "### 7. Automate file backup to an S3 bucket using Boto3."
   ]
  },
  {
   "cell_type": "code",
   "execution_count": null,
   "id": "3fb9cfdb",
   "metadata": {},
   "outputs": [],
   "source": [
    "# Write your code here"
   ]
  },
  {
   "cell_type": "markdown",
   "id": "c9fe54c9",
   "metadata": {},
   "source": [
    "### 8. Create a script that pings a list of hosts and logs results."
   ]
  },
  {
   "cell_type": "code",
   "execution_count": null,
   "id": "9b2a6fff",
   "metadata": {},
   "outputs": [],
   "source": [
    "# Write your code here"
   ]
  },
  {
   "cell_type": "markdown",
   "id": "f0a851db",
   "metadata": {},
   "source": [
    "### 9. Write a Python script to deploy an application using subprocess and Git."
   ]
  },
  {
   "cell_type": "code",
   "execution_count": null,
   "id": "e27d8d91",
   "metadata": {},
   "outputs": [],
   "source": [
    "# Write your code here"
   ]
  },
  {
   "cell_type": "markdown",
   "id": "f044c278",
   "metadata": {},
   "source": [
    "### 10. Monitor a directory for file changes using watchdog."
   ]
  },
  {
   "cell_type": "code",
   "execution_count": null,
   "id": "d379b613",
   "metadata": {},
   "outputs": [],
   "source": [
    "# Write your code here"
   ]
  },
  {
   "cell_type": "markdown",
   "id": "36406503",
   "metadata": {},
   "source": [
    "### 11. Script to check Docker container health and restart if unhealthy."
   ]
  },
  {
   "cell_type": "code",
   "execution_count": null,
   "id": "b664d044",
   "metadata": {},
   "outputs": [],
   "source": [
    "# Write your code here"
   ]
  },
  {
   "cell_type": "markdown",
   "id": "798c0df9",
   "metadata": {},
   "source": [
    "### 12. Write a script to validate Kubernetes YAML files using PyYAML."
   ]
  },
  {
   "cell_type": "code",
   "execution_count": null,
   "id": "8b6b121c",
   "metadata": {},
   "outputs": [],
   "source": [
    "# Write your code here"
   ]
  },
  {
   "cell_type": "markdown",
   "id": "2109a944",
   "metadata": {},
   "source": [
    "### 13. Automate Jenkins job creation using Jenkins REST API."
   ]
  },
  {
   "cell_type": "code",
   "execution_count": null,
   "id": "4409605f",
   "metadata": {},
   "outputs": [],
   "source": [
    "# Write your code here"
   ]
  },
  {
   "cell_type": "markdown",
   "id": "89946cb6",
   "metadata": {},
   "source": [
    "### 14. Build a tool to rotate logs daily and compress them."
   ]
  },
  {
   "cell_type": "code",
   "execution_count": null,
   "id": "dbadde42",
   "metadata": {},
   "outputs": [],
   "source": [
    "# Write your code here"
   ]
  },
  {
   "cell_type": "markdown",
   "id": "58c878c1",
   "metadata": {},
   "source": [
    "### 15. Script to extract and summarize metrics from Prometheus API."
   ]
  },
  {
   "cell_type": "code",
   "execution_count": null,
   "id": "e102007a",
   "metadata": {},
   "outputs": [],
   "source": [
    "# Write your code here"
   ]
  },
  {
   "cell_type": "markdown",
   "id": "dcce3be0",
   "metadata": {},
   "source": [
    "### 16. Automate adding and removing DNS records via Cloudflare API."
   ]
  },
  {
   "cell_type": "code",
   "execution_count": null,
   "id": "c6f701c0",
   "metadata": {},
   "outputs": [],
   "source": [
    "# Write your code here"
   ]
  },
  {
   "cell_type": "markdown",
   "id": "c7a080fb",
   "metadata": {},
   "source": [
    "### 17. Write a tool to scan open ports on a host."
   ]
  },
  {
   "cell_type": "code",
   "execution_count": null,
   "id": "42d8cd2a",
   "metadata": {},
   "outputs": [],
   "source": [
    "# Write your code here"
   ]
  },
  {
   "cell_type": "markdown",
   "id": "c1c8409b",
   "metadata": {},
   "source": [
    "### 18. Monitor and alert for failed cron jobs using log parsing."
   ]
  },
  {
   "cell_type": "code",
   "execution_count": null,
   "id": "31822057",
   "metadata": {},
   "outputs": [],
   "source": [
    "# Write your code here"
   ]
  },
  {
   "cell_type": "markdown",
   "id": "e1aa92e6",
   "metadata": {},
   "source": [
    "### 19. Script to restart a service if memory usage exceeds threshold."
   ]
  },
  {
   "cell_type": "code",
   "execution_count": null,
   "id": "b797e8bb",
   "metadata": {},
   "outputs": [],
   "source": [
    "# Write your code here"
   ]
  },
  {
   "cell_type": "markdown",
   "id": "87ac45f4",
   "metadata": {},
   "source": [
    "### 20. Create a CLI utility to tail and filter log files by keyword."
   ]
  },
  {
   "cell_type": "code",
   "execution_count": null,
   "id": "c8f18f8f",
   "metadata": {},
   "outputs": [],
   "source": [
    "# Write your code here"
   ]
  },
  {
   "cell_type": "markdown",
   "id": "cd91a41f",
   "metadata": {},
   "source": [
    "### 21. Use Python to connect to remote servers via SSH and run commands."
   ]
  },
  {
   "cell_type": "code",
   "execution_count": null,
   "id": "7d1b4e23",
   "metadata": {},
   "outputs": [],
   "source": [
    "# Write your code here"
   ]
  },
  {
   "cell_type": "markdown",
   "id": "0d789ef0",
   "metadata": {},
   "source": [
    "### 22. Automate GitHub issue creation for failed CI builds."
   ]
  },
  {
   "cell_type": "code",
   "execution_count": null,
   "id": "2ab46bb6",
   "metadata": {},
   "outputs": [],
   "source": [
    "# Write your code here"
   ]
  },
  {
   "cell_type": "markdown",
   "id": "b277de10",
   "metadata": {},
   "source": [
    "### 23. Script to clean up unused Docker images and containers."
   ]
  },
  {
   "cell_type": "code",
   "execution_count": null,
   "id": "7d1d155e",
   "metadata": {},
   "outputs": [],
   "source": [
    "# Write your code here"
   ]
  },
  {
   "cell_type": "markdown",
   "id": "46623c0c",
   "metadata": {},
   "source": [
    "### 24. Write a script to test network speed and log results."
   ]
  },
  {
   "cell_type": "code",
   "execution_count": null,
   "id": "75f4fccb",
   "metadata": {},
   "outputs": [],
   "source": [
    "# Write your code here"
   ]
  },
  {
   "cell_type": "markdown",
   "id": "4d2917e0",
   "metadata": {},
   "source": [
    "### 25. Automate deployment of a static site to S3 and CloudFront."
   ]
  },
  {
   "cell_type": "code",
   "execution_count": null,
   "id": "e80c1fe2",
   "metadata": {},
   "outputs": [],
   "source": [
    "# Write your code here"
   ]
  },
  {
   "cell_type": "markdown",
   "id": "acd9c373",
   "metadata": {},
   "source": [
    "### 26. Write a backup tool to sync local directory with remote server via rsync."
   ]
  },
  {
   "cell_type": "code",
   "execution_count": null,
   "id": "bc154b09",
   "metadata": {},
   "outputs": [],
   "source": [
    "# Write your code here"
   ]
  },
  {
   "cell_type": "markdown",
   "id": "6c4f0dda",
   "metadata": {},
   "source": [
    "### 27. Monitor API response time and alert if latency > 200ms."
   ]
  },
  {
   "cell_type": "code",
   "execution_count": null,
   "id": "bfb4244c",
   "metadata": {},
   "outputs": [],
   "source": [
    "# Write your code here"
   ]
  },
  {
   "cell_type": "markdown",
   "id": "db3f576c",
   "metadata": {},
   "source": [
    "### 28. Script to parse JSON logs and generate summary reports."
   ]
  },
  {
   "cell_type": "code",
   "execution_count": null,
   "id": "5c2e2fb1",
   "metadata": {},
   "outputs": [],
   "source": [
    "# Write your code here"
   ]
  },
  {
   "cell_type": "markdown",
   "id": "4a03444d",
   "metadata": {},
   "source": [
    "### 29. Schedule and run scripts using `schedule` or `APScheduler`."
   ]
  },
  {
   "cell_type": "code",
   "execution_count": null,
   "id": "b6d054f8",
   "metadata": {},
   "outputs": [],
   "source": [
    "# Write your code here"
   ]
  },
  {
   "cell_type": "markdown",
   "id": "d01b3384",
   "metadata": {},
   "source": [
    "### 30. Build a Python dashboard to show real-time system metrics using Flask."
   ]
  },
  {
   "cell_type": "code",
   "execution_count": null,
   "id": "8ccedec7",
   "metadata": {},
   "outputs": [],
   "source": [
    "# Write your code here"
   ]
  }
 ],
 "metadata": {},
 "nbformat": 4,
 "nbformat_minor": 5
}
