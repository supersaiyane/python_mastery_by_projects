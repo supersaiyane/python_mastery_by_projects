{
 "cells": [
  {
   "cell_type": "markdown",
   "id": "206007c6",
   "metadata": {},
   "source": [
    "### 1. Create a class to model a bank account with deposit and withdrawal methods."
   ]
  },
  {
   "cell_type": "code",
   "execution_count": null,
   "id": "bc49b71c",
   "metadata": {},
   "outputs": [],
   "source": [
    "# Write your code here"
   ]
  },
  {
   "cell_type": "markdown",
   "id": "298efc37",
   "metadata": {},
   "source": [
    "### 2. Implement a class for a rectangle with area and perimeter methods."
   ]
  },
  {
   "cell_type": "code",
   "execution_count": null,
   "id": "aae040ab",
   "metadata": {},
   "outputs": [],
   "source": [
    "# Write your code here"
   ]
  },
  {
   "cell_type": "markdown",
   "id": "96b0c4cb",
   "metadata": {},
   "source": [
    "### 3. Use inheritance to create a subclass of a parent class."
   ]
  },
  {
   "cell_type": "code",
   "execution_count": null,
   "id": "16d8f446",
   "metadata": {},
   "outputs": [],
   "source": [
    "# Write your code here"
   ]
  },
  {
   "cell_type": "markdown",
   "id": "3882f6ae",
   "metadata": {},
   "source": [
    "### 4. Write a program to read a file and print its content."
   ]
  },
  {
   "cell_type": "code",
   "execution_count": null,
   "id": "b8ba57a2",
   "metadata": {},
   "outputs": [],
   "source": [
    "# Write your code here"
   ]
  },
  {
   "cell_type": "markdown",
   "id": "706cc3dc",
   "metadata": {},
   "source": [
    "### 5. Write a decorator that logs function execution time."
   ]
  },
  {
   "cell_type": "code",
   "execution_count": null,
   "id": "25b647d6",
   "metadata": {},
   "outputs": [],
   "source": [
    "# Write your code here"
   ]
  },
  {
   "cell_type": "markdown",
   "id": "9aef68e7",
   "metadata": {},
   "source": [
    "### 6. Use `map()` to square every number in a list."
   ]
  },
  {
   "cell_type": "code",
   "execution_count": null,
   "id": "7f14c82c",
   "metadata": {},
   "outputs": [],
   "source": [
    "# Write your code here"
   ]
  },
  {
   "cell_type": "markdown",
   "id": "7fffc284",
   "metadata": {},
   "source": [
    "### 7. Use `filter()` to extract even numbers from a list."
   ]
  },
  {
   "cell_type": "code",
   "execution_count": null,
   "id": "87d05219",
   "metadata": {},
   "outputs": [],
   "source": [
    "# Write your code here"
   ]
  },
  {
   "cell_type": "markdown",
   "id": "31f24a41",
   "metadata": {},
   "source": [
    "### 8. Use `reduce()` to find the product of a list."
   ]
  },
  {
   "cell_type": "code",
   "execution_count": null,
   "id": "caba122b",
   "metadata": {},
   "outputs": [],
   "source": [
    "# Write your code here"
   ]
  },
  {
   "cell_type": "markdown",
   "id": "4b7fe9aa",
   "metadata": {},
   "source": [
    "### 9. Create a list of even squares using list comprehension."
   ]
  },
  {
   "cell_type": "code",
   "execution_count": null,
   "id": "f645e2fc",
   "metadata": {},
   "outputs": [],
   "source": [
    "# Write your code here"
   ]
  },
  {
   "cell_type": "markdown",
   "id": "3b748209",
   "metadata": {},
   "source": [
    "### 10. Merge two lists into a dictionary using `zip()`."
   ]
  },
  {
   "cell_type": "code",
   "execution_count": null,
   "id": "8732cecc",
   "metadata": {},
   "outputs": [],
   "source": [
    "# Write your code here"
   ]
  },
  {
   "cell_type": "markdown",
   "id": "d21b0cc9",
   "metadata": {},
   "source": [
    "### 11. Create a program to count characters in a file."
   ]
  },
  {
   "cell_type": "code",
   "execution_count": null,
   "id": "24011d64",
   "metadata": {},
   "outputs": [],
   "source": [
    "# Write your code here"
   ]
  },
  {
   "cell_type": "markdown",
   "id": "6dcb5690",
   "metadata": {},
   "source": [
    "### 12. Write a class that tracks total number of instances created."
   ]
  },
  {
   "cell_type": "code",
   "execution_count": null,
   "id": "00a0e28a",
   "metadata": {},
   "outputs": [],
   "source": [
    "# Write your code here"
   ]
  },
  {
   "cell_type": "markdown",
   "id": "e87ab751",
   "metadata": {},
   "source": [
    "### 13. Use `*args` to write a function that accepts any number of arguments."
   ]
  },
  {
   "cell_type": "code",
   "execution_count": null,
   "id": "db881c1a",
   "metadata": {},
   "outputs": [],
   "source": [
    "# Write your code here"
   ]
  },
  {
   "cell_type": "markdown",
   "id": "69f67497",
   "metadata": {},
   "source": [
    "### 14. Use `**kwargs` to format a string with named parameters."
   ]
  },
  {
   "cell_type": "code",
   "execution_count": null,
   "id": "90f0f60f",
   "metadata": {},
   "outputs": [],
   "source": [
    "# Write your code here"
   ]
  },
  {
   "cell_type": "markdown",
   "id": "4084b1ff",
   "metadata": {},
   "source": [
    "### 15. Create a CLI app that takes arguments using `argparse`."
   ]
  },
  {
   "cell_type": "code",
   "execution_count": null,
   "id": "c1bf7f2c",
   "metadata": {},
   "outputs": [],
   "source": [
    "# Write your code here"
   ]
  },
  {
   "cell_type": "markdown",
   "id": "b1d7d733",
   "metadata": {},
   "source": [
    "### 16. Write a function to validate email using regex."
   ]
  },
  {
   "cell_type": "code",
   "execution_count": null,
   "id": "3c99c0d9",
   "metadata": {},
   "outputs": [],
   "source": [
    "# Write your code here"
   ]
  },
  {
   "cell_type": "markdown",
   "id": "3d0c9ab8",
   "metadata": {},
   "source": [
    "### 17. Create a student class and sort students by grade."
   ]
  },
  {
   "cell_type": "code",
   "execution_count": null,
   "id": "603440b4",
   "metadata": {},
   "outputs": [],
   "source": [
    "# Write your code here"
   ]
  },
  {
   "cell_type": "markdown",
   "id": "682364f6",
   "metadata": {},
   "source": [
    "### 18. Build a text-based menu app using classes and functions."
   ]
  },
  {
   "cell_type": "code",
   "execution_count": null,
   "id": "b6921336",
   "metadata": {},
   "outputs": [],
   "source": [
    "# Write your code here"
   ]
  },
  {
   "cell_type": "markdown",
   "id": "058d51cf",
   "metadata": {},
   "source": [
    "### 19. Write a function to count frequency of words in a file."
   ]
  },
  {
   "cell_type": "code",
   "execution_count": null,
   "id": "547c5825",
   "metadata": {},
   "outputs": [],
   "source": [
    "# Write your code here"
   ]
  },
  {
   "cell_type": "markdown",
   "id": "4965922e",
   "metadata": {},
   "source": [
    "### 20. Create a program to compress text using Run Length Encoding."
   ]
  },
  {
   "cell_type": "code",
   "execution_count": null,
   "id": "97d443d1",
   "metadata": {},
   "outputs": [],
   "source": [
    "# Write your code here"
   ]
  }
 ],
 "metadata": {},
 "nbformat": 4,
 "nbformat_minor": 5
}
