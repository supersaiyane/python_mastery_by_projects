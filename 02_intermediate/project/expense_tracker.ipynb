{
 "cells": [
  {
   "cell_type": "markdown",
   "id": "553b6c6d",
   "metadata": {},
   "source": [
    "# Project: Expense Tracker\n",
    "\n",
    "## Description:\n",
    "Track daily expenses. Add, view, delete transactions. Save to file.\n",
    "\n",
    "## Features:\n",
    "- Use Python best practices\n",
    "- Handle edge cases\n",
    "- Write clean, modular code\n",
    "\n",
    "## Bonus:\n",
    "- Add CLI flags using argparse\n",
    "- Store data persistently\n"
   ]
  }
 ],
 "metadata": {
  "language_info": {
   "name": "python"
  }
 },
 "nbformat": 4,
 "nbformat_minor": 5
}
