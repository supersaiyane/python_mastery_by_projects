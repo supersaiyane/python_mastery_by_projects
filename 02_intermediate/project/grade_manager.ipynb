{
 "cells": [
  {
   "cell_type": "markdown",
   "id": "15af0a41",
   "metadata": {},
   "source": [
    "# Project: Grade Manager\n",
    "\n",
    "## Description:\n",
    "Store student grades, compute averages, and export results to a file.\n",
    "\n",
    "## Features:\n",
    "- Use Python best practices\n",
    "- Handle edge cases\n",
    "- Write clean, modular code\n",
    "\n",
    "## Bonus:\n",
    "- Add CLI flags using argparse\n",
    "- Store data persistently\n"
   ]
  }
 ],
 "metadata": {
  "language_info": {
   "name": "python"
  }
 },
 "nbformat": 4,
 "nbformat_minor": 5
}
