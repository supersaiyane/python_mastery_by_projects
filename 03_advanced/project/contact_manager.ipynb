{
 "cells": [
  {
   "cell_type": "markdown",
   "id": "0a44bcc8",
   "metadata": {},
   "source": [
    "# Project: Contact Manager\n",
    "\n",
    "## Description:\n",
    "Manage contacts with CRUD ops using a class. Store in CSV or JSON.\n",
    "\n",
    "## Features:\n",
    "- Use Python best practices\n",
    "- Handle edge cases\n",
    "- Write clean, modular code\n",
    "\n",
    "## Bonus:\n",
    "- Add CLI flags using argparse\n",
    "- Store data persistently\n"
   ]
  }
 ],
 "metadata": {
  "language_info": {
   "name": "python"
  }
 },
 "nbformat": 4,
 "nbformat_minor": 5
}
