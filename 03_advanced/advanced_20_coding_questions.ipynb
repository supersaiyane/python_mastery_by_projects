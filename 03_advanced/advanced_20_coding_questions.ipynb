{
 "cells": [
  {
   "cell_type": "markdown",
   "id": "f75bda9e",
   "metadata": {},
   "source": [
    "### 1. Write a generator to yield Fibonacci numbers."
   ]
  },
  {
   "cell_type": "code",
   "execution_count": null,
   "id": "05bbe9cf",
   "metadata": {},
   "outputs": [],
   "source": [
    "# Write your code here"
   ]
  },
  {
   "cell_type": "markdown",
   "id": "dbda32df",
   "metadata": {},
   "source": [
    "### 2. Build a custom iterator that counts down from n to 0."
   ]
  },
  {
   "cell_type": "code",
   "execution_count": null,
   "id": "3a7e87b4",
   "metadata": {},
   "outputs": [],
   "source": [
    "# Write your code here"
   ]
  },
  {
   "cell_type": "markdown",
   "id": "aef46f65",
   "metadata": {},
   "source": [
    "### 3. Use a context manager to open and close a file."
   ]
  },
  {
   "cell_type": "code",
   "execution_count": null,
   "id": "b068dd4b",
   "metadata": {},
   "outputs": [],
   "source": [
    "# Write your code here"
   ]
  },
  {
   "cell_type": "markdown",
   "id": "1be9d64a",
   "metadata": {},
   "source": [
    "### 4. Build a context manager that logs entry and exit."
   ]
  },
  {
   "cell_type": "code",
   "execution_count": null,
   "id": "e2a25a86",
   "metadata": {},
   "outputs": [],
   "source": [
    "# Write your code here"
   ]
  },
  {
   "cell_type": "markdown",
   "id": "6ff3c1fd",
   "metadata": {},
   "source": [
    "### 5. Make an HTTP GET request and print JSON result."
   ]
  },
  {
   "cell_type": "code",
   "execution_count": null,
   "id": "1478691d",
   "metadata": {},
   "outputs": [],
   "source": [
    "# Write your code here"
   ]
  },
  {
   "cell_type": "markdown",
   "id": "6dc95ede",
   "metadata": {},
   "source": [
    "### 6. Send data via a POST request and receive a response."
   ]
  },
  {
   "cell_type": "code",
   "execution_count": null,
   "id": "25834b25",
   "metadata": {},
   "outputs": [],
   "source": [
    "# Write your code here"
   ]
  },
  {
   "cell_type": "markdown",
   "id": "6e7bafb2",
   "metadata": {},
   "source": [
    "### 7. Parse and print values from a JSON response."
   ]
  },
  {
   "cell_type": "code",
   "execution_count": null,
   "id": "18aeb29e",
   "metadata": {},
   "outputs": [],
   "source": [
    "# Write your code here"
   ]
  },
  {
   "cell_type": "markdown",
   "id": "6fee2901",
   "metadata": {},
   "source": [
    "### 8. Build a test case using `unittest` for a calculator class."
   ]
  },
  {
   "cell_type": "code",
   "execution_count": null,
   "id": "8643df89",
   "metadata": {},
   "outputs": [],
   "source": [
    "# Write your code here"
   ]
  },
  {
   "cell_type": "markdown",
   "id": "1359cc85",
   "metadata": {},
   "source": [
    "### 9. Create a module with reusable math functions."
   ]
  },
  {
   "cell_type": "code",
   "execution_count": null,
   "id": "aa8fcd75",
   "metadata": {},
   "outputs": [],
   "source": [
    "# Write your code here"
   ]
  },
  {
   "cell_type": "markdown",
   "id": "74e404bb",
   "metadata": {},
   "source": [
    "### 10. Write a CLI tool to fetch weather data using OpenWeatherMap API."
   ]
  },
  {
   "cell_type": "code",
   "execution_count": null,
   "id": "3552c714",
   "metadata": {},
   "outputs": [],
   "source": [
    "# Write your code here"
   ]
  },
  {
   "cell_type": "markdown",
   "id": "057986a1",
   "metadata": {},
   "source": [
    "### 11. Simulate a login/logout flow with decorators."
   ]
  },
  {
   "cell_type": "code",
   "execution_count": null,
   "id": "43c4458d",
   "metadata": {},
   "outputs": [],
   "source": [
    "# Write your code here"
   ]
  },
  {
   "cell_type": "markdown",
   "id": "1c31d45a",
   "metadata": {},
   "source": [
    "### 12. Create a class that represents a library system."
   ]
  },
  {
   "cell_type": "code",
   "execution_count": null,
   "id": "174a0794",
   "metadata": {},
   "outputs": [],
   "source": [
    "# Write your code here"
   ]
  },
  {
   "cell_type": "markdown",
   "id": "f238bf46",
   "metadata": {},
   "source": [
    "### 13. Create a CLI app that manages notes using file system."
   ]
  },
  {
   "cell_type": "code",
   "execution_count": null,
   "id": "09dc0225",
   "metadata": {},
   "outputs": [],
   "source": [
    "# Write your code here"
   ]
  },
  {
   "cell_type": "markdown",
   "id": "4dffe948",
   "metadata": {},
   "source": [
    "### 14. Build a command-line Markdown viewer using file parsing."
   ]
  },
  {
   "cell_type": "code",
   "execution_count": null,
   "id": "7853cfed",
   "metadata": {},
   "outputs": [],
   "source": [
    "# Write your code here"
   ]
  },
  {
   "cell_type": "markdown",
   "id": "eee41ccb",
   "metadata": {},
   "source": [
    "### 15. Simulate a simple voting app with results as JSON."
   ]
  },
  {
   "cell_type": "code",
   "execution_count": null,
   "id": "4c1f7cf2",
   "metadata": {},
   "outputs": [],
   "source": [
    "# Write your code here"
   ]
  },
  {
   "cell_type": "markdown",
   "id": "abc2a26d",
   "metadata": {},
   "source": [
    "### 16. Create a script that reads a CSV and shows statistics."
   ]
  },
  {
   "cell_type": "code",
   "execution_count": null,
   "id": "e603b743",
   "metadata": {},
   "outputs": [],
   "source": [
    "# Write your code here"
   ]
  },
  {
   "cell_type": "markdown",
   "id": "81fe27e7",
   "metadata": {},
   "source": [
    "### 17. Write a parser that extracts headings from a markdown file."
   ]
  },
  {
   "cell_type": "code",
   "execution_count": null,
   "id": "1b304725",
   "metadata": {},
   "outputs": [],
   "source": [
    "# Write your code here"
   ]
  },
  {
   "cell_type": "markdown",
   "id": "0310d9fd",
   "metadata": {},
   "source": [
    "### 18. Build a calculator that evaluates expressions using `eval()` safely."
   ]
  },
  {
   "cell_type": "code",
   "execution_count": null,
   "id": "0c9212dd",
   "metadata": {},
   "outputs": [],
   "source": [
    "# Write your code here"
   ]
  },
  {
   "cell_type": "markdown",
   "id": "650b8963",
   "metadata": {},
   "source": [
    "### 19. Build a CLI utility to rename a batch of files in a folder."
   ]
  },
  {
   "cell_type": "code",
   "execution_count": null,
   "id": "e396060a",
   "metadata": {},
   "outputs": [],
   "source": [
    "# Write your code here"
   ]
  },
  {
   "cell_type": "markdown",
   "id": "6bd94f6e",
   "metadata": {},
   "source": [
    "### 20. Create a stopwatch using `time` module."
   ]
  },
  {
   "cell_type": "code",
   "execution_count": null,
   "id": "0e5523d0",
   "metadata": {},
   "outputs": [],
   "source": [
    "# Write your code here"
   ]
  }
 ],
 "metadata": {},
 "nbformat": 4,
 "nbformat_minor": 5
}
