{
 "cells": [
  {
   "cell_type": "markdown",
   "id": "4335f9c5",
   "metadata": {},
   "source": [
    "### 1. Load a CSV file using pandas and display its summary."
   ]
  },
  {
   "cell_type": "code",
   "execution_count": null,
   "id": "4630aaf0",
   "metadata": {},
   "outputs": [],
   "source": [
    "# Write your code here"
   ]
  },
  {
   "cell_type": "markdown",
   "id": "fa44d86a",
   "metadata": {},
   "source": [
    "### 2. Plot a histogram of a numeric feature using matplotlib."
   ]
  },
  {
   "cell_type": "code",
   "execution_count": null,
   "id": "e9eab005",
   "metadata": {},
   "outputs": [],
   "source": [
    "# Write your code here"
   ]
  },
  {
   "cell_type": "markdown",
   "id": "5ed106e7",
   "metadata": {},
   "source": [
    "### 3. One-hot encode categorical variables using pandas."
   ]
  },
  {
   "cell_type": "code",
   "execution_count": null,
   "id": "5ebc38d8",
   "metadata": {},
   "outputs": [],
   "source": [
    "# Write your code here"
   ]
  },
  {
   "cell_type": "markdown",
   "id": "48606b3a",
   "metadata": {},
   "source": [
    "### 4. Normalize a feature column using MinMaxScaler."
   ]
  },
  {
   "cell_type": "code",
   "execution_count": null,
   "id": "09325b18",
   "metadata": {},
   "outputs": [],
   "source": [
    "# Write your code here"
   ]
  },
  {
   "cell_type": "markdown",
   "id": "bc4c9c40",
   "metadata": {},
   "source": [
    "### 5. Split a dataset into train and test sets using sklearn."
   ]
  },
  {
   "cell_type": "code",
   "execution_count": null,
   "id": "545a0f28",
   "metadata": {},
   "outputs": [],
   "source": [
    "# Write your code here"
   ]
  },
  {
   "cell_type": "markdown",
   "id": "ad817e00",
   "metadata": {},
   "source": [
    "### 6. Fit a linear regression model and show coefficients."
   ]
  },
  {
   "cell_type": "code",
   "execution_count": null,
   "id": "88d96bdc",
   "metadata": {},
   "outputs": [],
   "source": [
    "# Write your code here"
   ]
  },
  {
   "cell_type": "markdown",
   "id": "75a5273f",
   "metadata": {},
   "source": [
    "### 7. Calculate accuracy, precision, recall, F1 using sklearn."
   ]
  },
  {
   "cell_type": "code",
   "execution_count": null,
   "id": "945adddb",
   "metadata": {},
   "outputs": [],
   "source": [
    "# Write your code here"
   ]
  },
  {
   "cell_type": "markdown",
   "id": "8ef30a55",
   "metadata": {},
   "source": [
    "### 8. Create a confusion matrix heatmap using seaborn."
   ]
  },
  {
   "cell_type": "code",
   "execution_count": null,
   "id": "228fc18b",
   "metadata": {},
   "outputs": [],
   "source": [
    "# Write your code here"
   ]
  },
  {
   "cell_type": "markdown",
   "id": "c6b07434",
   "metadata": {},
   "source": [
    "### 9. Implement K-fold cross-validation using sklearn."
   ]
  },
  {
   "cell_type": "code",
   "execution_count": null,
   "id": "93ce406b",
   "metadata": {},
   "outputs": [],
   "source": [
    "# Write your code here"
   ]
  },
  {
   "cell_type": "markdown",
   "id": "e11b36f5",
   "metadata": {},
   "source": [
    "### 10. Train a decision tree classifier and visualize it."
   ]
  },
  {
   "cell_type": "code",
   "execution_count": null,
   "id": "ca4779f4",
   "metadata": {},
   "outputs": [],
   "source": [
    "# Write your code here"
   ]
  },
  {
   "cell_type": "markdown",
   "id": "a8940b3f",
   "metadata": {},
   "source": [
    "### 11. Perform PCA and reduce data to 2 dimensions."
   ]
  },
  {
   "cell_type": "code",
   "execution_count": null,
   "id": "c6036bff",
   "metadata": {},
   "outputs": [],
   "source": [
    "# Write your code here"
   ]
  },
  {
   "cell_type": "markdown",
   "id": "8e48aab4",
   "metadata": {},
   "source": [
    "### 12. Apply a RandomForestClassifier and evaluate performance."
   ]
  },
  {
   "cell_type": "code",
   "execution_count": null,
   "id": "38664f70",
   "metadata": {},
   "outputs": [],
   "source": [
    "# Write your code here"
   ]
  },
  {
   "cell_type": "markdown",
   "id": "2140bdc8",
   "metadata": {},
   "source": [
    "### 13. Plot a ROC curve and compute AUC."
   ]
  },
  {
   "cell_type": "code",
   "execution_count": null,
   "id": "7c569e2c",
   "metadata": {},
   "outputs": [],
   "source": [
    "# Write your code here"
   ]
  },
  {
   "cell_type": "markdown",
   "id": "0d5b98a4",
   "metadata": {},
   "source": [
    "### 14. Create a simple neural network using TensorFlow or Keras."
   ]
  },
  {
   "cell_type": "code",
   "execution_count": null,
   "id": "cdf84a90",
   "metadata": {},
   "outputs": [],
   "source": [
    "# Write your code here"
   ]
  },
  {
   "cell_type": "markdown",
   "id": "c48286e8",
   "metadata": {},
   "source": [
    "### 15. Apply k-means clustering and plot the clusters."
   ]
  },
  {
   "cell_type": "code",
   "execution_count": null,
   "id": "292db44f",
   "metadata": {},
   "outputs": [],
   "source": [
    "# Write your code here"
   ]
  },
  {
   "cell_type": "markdown",
   "id": "24d9c77f",
   "metadata": {},
   "source": [
    "### 16. Perform outlier detection using IQR method."
   ]
  },
  {
   "cell_type": "code",
   "execution_count": null,
   "id": "99428d06",
   "metadata": {},
   "outputs": [],
   "source": [
    "# Write your code here"
   ]
  },
  {
   "cell_type": "markdown",
   "id": "23da9c6f",
   "metadata": {},
   "source": [
    "### 17. Conduct hypothesis testing using t-test in scipy."
   ]
  },
  {
   "cell_type": "code",
   "execution_count": null,
   "id": "03f2345d",
   "metadata": {},
   "outputs": [],
   "source": [
    "# Write your code here"
   ]
  },
  {
   "cell_type": "markdown",
   "id": "4a97fe43",
   "metadata": {},
   "source": [
    "### 18. Build a logistic regression model to predict binary outcome."
   ]
  },
  {
   "cell_type": "code",
   "execution_count": null,
   "id": "54ff3835",
   "metadata": {},
   "outputs": [],
   "source": [
    "# Write your code here"
   ]
  },
  {
   "cell_type": "markdown",
   "id": "e34bac6a",
   "metadata": {},
   "source": [
    "### 19. Plot a time series and decompose seasonal components."
   ]
  },
  {
   "cell_type": "code",
   "execution_count": null,
   "id": "ac06d855",
   "metadata": {},
   "outputs": [],
   "source": [
    "# Write your code here"
   ]
  },
  {
   "cell_type": "markdown",
   "id": "48c78665",
   "metadata": {},
   "source": [
    "### 20. Create a pipeline with preprocessing and model steps using sklearn."
   ]
  },
  {
   "cell_type": "code",
   "execution_count": null,
   "id": "4d544002",
   "metadata": {},
   "outputs": [],
   "source": [
    "# Write your code here"
   ]
  }
 ],
 "metadata": {},
 "nbformat": 4,
 "nbformat_minor": 5
}
