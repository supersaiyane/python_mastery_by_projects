{
 "cells": [
  {
   "cell_type": "markdown",
   "id": "5a178d7d",
   "metadata": {},
   "source": [
    "# Project: Customer Churn Prediction\n",
    "\n",
    "## Description\n",
    "Predict customer churn using historical customer data.\n",
    "\n",
    "## Steps:\n",
    "- Load customer demographic and service data\n",
    "- Handle missing values and encode categorical features\n",
    "- Train a logistic regression model\n",
    "- Evaluate using F1 score and ROC-AUC\n",
    "\n",
    "## Libraries:\n",
    "- pandas, sklearn, matplotlib, seaborn\n"
   ]
  }
 ],
 "metadata": {
  "language_info": {
   "name": "python"
  }
 },
 "nbformat": 4,
 "nbformat_minor": 5
}
