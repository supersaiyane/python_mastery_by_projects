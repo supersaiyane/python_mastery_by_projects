{
 "cells": [
  {
   "cell_type": "markdown",
   "id": "6ffe65c3",
   "metadata": {},
   "source": [
    "# Project: Todo List\n",
    "\n",
    "## Description:\n",
    "Create a command-line to-do list that saves tasks to a file.\n",
    "\n",
    "## Features:\n",
    "- Use Python best practices\n",
    "- Handle edge cases\n",
    "- Write clean, modular code\n",
    "\n",
    "## Bonus:\n",
    "- Add CLI flags using argparse\n",
    "- Store data persistently\n"
   ]
  }
 ],
 "metadata": {
  "language_info": {
   "name": "python"
  }
 },
 "nbformat": 4,
 "nbformat_minor": 5
}
