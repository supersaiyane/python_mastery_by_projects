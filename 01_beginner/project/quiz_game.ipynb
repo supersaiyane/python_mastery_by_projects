{
 "cells": [
  {
   "cell_type": "markdown",
   "id": "e1f42cb5",
   "metadata": {},
   "source": [
    "# Project: Quiz Game\n",
    "\n",
    "## Description:\n",
    "Build a CLI quiz app that asks 5+ questions, takes input, shows score.\n",
    "\n",
    "## Features:\n",
    "- Use Python best practices\n",
    "- Handle edge cases\n",
    "- Write clean, modular code\n",
    "\n",
    "## Bonus:\n",
    "- Add CLI flags using argparse\n",
    "- Store data persistently\n"
   ]
  }
 ],
 "metadata": {
  "language_info": {
   "name": "python"
  }
 },
 "nbformat": 4,
 "nbformat_minor": 5
}
