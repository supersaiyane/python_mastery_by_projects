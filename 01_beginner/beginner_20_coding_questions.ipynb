{
 "cells": [
  {
   "cell_type": "markdown",
   "id": "955efa12",
   "metadata": {},
   "source": [
    "### 1. Write a program to print 'Hello, World!'"
   ]
  },
  {
   "cell_type": "code",
   "execution_count": null,
   "id": "311754c3",
   "metadata": {},
   "outputs": [],
   "source": [
    "# Write your code here"
   ]
  },
  {
   "cell_type": "markdown",
   "id": "aabe0b99",
   "metadata": {},
   "source": [
    "### 2. Create a program that takes name and age as input and prints them."
   ]
  },
  {
   "cell_type": "code",
   "execution_count": null,
   "id": "b3bd9f62",
   "metadata": {},
   "outputs": [],
   "source": [
    "# Write your code here"
   ]
  },
  {
   "cell_type": "markdown",
   "id": "bd351243",
   "metadata": {},
   "source": [
    "### 3. Write a program to check if a number is even or odd."
   ]
  },
  {
   "cell_type": "code",
   "execution_count": null,
   "id": "5333a820",
   "metadata": {},
   "outputs": [],
   "source": [
    "# Write your code here"
   ]
  },
  {
   "cell_type": "markdown",
   "id": "1d361f1c",
   "metadata": {},
   "source": [
    "### 4. Find the largest of three numbers."
   ]
  },
  {
   "cell_type": "code",
   "execution_count": null,
   "id": "8c278942",
   "metadata": {},
   "outputs": [],
   "source": [
    "# Write your code here"
   ]
  },
  {
   "cell_type": "markdown",
   "id": "dfcb1e33",
   "metadata": {},
   "source": [
    "### 5. Calculate the factorial of a number using a loop."
   ]
  },
  {
   "cell_type": "code",
   "execution_count": null,
   "id": "50fbe6b0",
   "metadata": {},
   "outputs": [],
   "source": [
    "# Write your code here"
   ]
  },
  {
   "cell_type": "markdown",
   "id": "9b8a0e8c",
   "metadata": {},
   "source": [
    "### 6. Generate the first n numbers of a Fibonacci sequence."
   ]
  },
  {
   "cell_type": "code",
   "execution_count": null,
   "id": "c762eb2e",
   "metadata": {},
   "outputs": [],
   "source": [
    "# Write your code here"
   ]
  },
  {
   "cell_type": "markdown",
   "id": "c28b315d",
   "metadata": {},
   "source": [
    "### 7. Count the number of vowels in a given string."
   ]
  },
  {
   "cell_type": "code",
   "execution_count": null,
   "id": "c87b4709",
   "metadata": {},
   "outputs": [],
   "source": [
    "# Write your code here"
   ]
  },
  {
   "cell_type": "markdown",
   "id": "ea067d35",
   "metadata": {},
   "source": [
    "### 8. Check if a string is a palindrome."
   ]
  },
  {
   "cell_type": "code",
   "execution_count": null,
   "id": "72f33d39",
   "metadata": {},
   "outputs": [],
   "source": [
    "# Write your code here"
   ]
  },
  {
   "cell_type": "markdown",
   "id": "50a9ce0e",
   "metadata": {},
   "source": [
    "### 9. Reverse a list without using reverse()."
   ]
  },
  {
   "cell_type": "code",
   "execution_count": null,
   "id": "a75a1c15",
   "metadata": {},
   "outputs": [],
   "source": [
    "# Write your code here"
   ]
  },
  {
   "cell_type": "markdown",
   "id": "4d4c3939",
   "metadata": {},
   "source": [
    "### 10. Print multiplication table of a number."
   ]
  },
  {
   "cell_type": "code",
   "execution_count": null,
   "id": "1144553a",
   "metadata": {},
   "outputs": [],
   "source": [
    "# Write your code here"
   ]
  },
  {
   "cell_type": "markdown",
   "id": "95fa0a43",
   "metadata": {},
   "source": [
    "### 11. Find the sum of digits of a number."
   ]
  },
  {
   "cell_type": "code",
   "execution_count": null,
   "id": "574c92e5",
   "metadata": {},
   "outputs": [],
   "source": [
    "# Write your code here"
   ]
  },
  {
   "cell_type": "markdown",
   "id": "5c4e8020",
   "metadata": {},
   "source": [
    "### 12. Find the minimum and maximum in a list."
   ]
  },
  {
   "cell_type": "code",
   "execution_count": null,
   "id": "8ed69cd5",
   "metadata": {},
   "outputs": [],
   "source": [
    "# Write your code here"
   ]
  },
  {
   "cell_type": "markdown",
   "id": "c31773d0",
   "metadata": {},
   "source": [
    "### 13. Merge two dictionaries into one."
   ]
  },
  {
   "cell_type": "code",
   "execution_count": null,
   "id": "3298782e",
   "metadata": {},
   "outputs": [],
   "source": [
    "# Write your code here"
   ]
  },
  {
   "cell_type": "markdown",
   "id": "0cba1d72",
   "metadata": {},
   "source": [
    "### 14. Remove duplicates from a list."
   ]
  },
  {
   "cell_type": "code",
   "execution_count": null,
   "id": "9a7791dd",
   "metadata": {},
   "outputs": [],
   "source": [
    "# Write your code here"
   ]
  },
  {
   "cell_type": "markdown",
   "id": "88fd220d",
   "metadata": {},
   "source": [
    "### 15. Convert Celsius to Fahrenheit."
   ]
  },
  {
   "cell_type": "code",
   "execution_count": null,
   "id": "15e4c032",
   "metadata": {},
   "outputs": [],
   "source": [
    "# Write your code here"
   ]
  },
  {
   "cell_type": "markdown",
   "id": "f9ea3356",
   "metadata": {},
   "source": [
    "### 16. Count the occurrence of each word in a string."
   ]
  },
  {
   "cell_type": "code",
   "execution_count": null,
   "id": "eeba28fa",
   "metadata": {},
   "outputs": [],
   "source": [
    "# Write your code here"
   ]
  },
  {
   "cell_type": "markdown",
   "id": "04cdce09",
   "metadata": {},
   "source": [
    "### 17. Create a simple calculator for +, -, *, /"
   ]
  },
  {
   "cell_type": "code",
   "execution_count": null,
   "id": "e567417f",
   "metadata": {},
   "outputs": [],
   "source": [
    "# Write your code here"
   ]
  },
  {
   "cell_type": "markdown",
   "id": "b2fbef9a",
   "metadata": {},
   "source": [
    "### 18. Write a program to check if a year is a leap year."
   ]
  },
  {
   "cell_type": "code",
   "execution_count": null,
   "id": "2fde9a8e",
   "metadata": {},
   "outputs": [],
   "source": [
    "# Write your code here"
   ]
  },
  {
   "cell_type": "markdown",
   "id": "9b907d0f",
   "metadata": {},
   "source": [
    "### 19. Print all prime numbers between 1 and 100."
   ]
  },
  {
   "cell_type": "code",
   "execution_count": null,
   "id": "a503bc0c",
   "metadata": {},
   "outputs": [],
   "source": [
    "# Write your code here"
   ]
  },
  {
   "cell_type": "markdown",
   "id": "810ab610",
   "metadata": {},
   "source": [
    "### 20. Create a list of squares of even numbers from 1 to 20."
   ]
  },
  {
   "cell_type": "code",
   "execution_count": null,
   "id": "df2a49e8",
   "metadata": {},
   "outputs": [],
   "source": [
    "# Write your code here"
   ]
  }
 ],
 "metadata": {
  "kernelspec": {
   "display_name": "Python 3",
   "language": "python",
   "name": "python3"
  },
  "language_info": {
   "name": "python",
   "version": "3.12.10"
  }
 },
 "nbformat": 4,
 "nbformat_minor": 5
}
